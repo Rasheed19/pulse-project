{
 "cells": [
  {
   "cell_type": "code",
   "execution_count": null,
   "metadata": {},
   "outputs": [],
   "source": [
    "import importlib\n",
    "from utils import (\n",
    "    extraction,\n",
    "    generic_helper,\n",
    "    experiment\n",
    ")\n",
    "from utils.definitions import ROOT_DIR\n",
    "importlib.reload(generic_helper)\n",
    "importlib.reload(extraction)\n",
    "importlib.reload(experiment)"
   ]
  },
  {
   "cell_type": "code",
   "execution_count": null,
   "metadata": {},
   "outputs": [],
   "source": [
    "# read in all the refined structured data\n",
    "data = generic_helper.read_data(\n",
    "    path=f\"{ROOT_DIR}/data\",\n",
    "    fname=\"noah_structured_data_refined.pkl\"\n",
    ")\n",
    "\n",
    "# filter out cells that live more than 950 cycles\n",
    "data = {\n",
    "    k: data[k] for k in data\n",
    "      if data[k][\"summary\"][\"end_of_life\"] <= 950\n",
    "}"
   ]
  },
  {
   "cell_type": "code",
   "execution_count": null,
   "metadata": {},
   "outputs": [],
   "source": [
    "# load model configuration and transformation function\n",
    "model_config = generic_helper.load_yaml_file(\n",
    "    path=f\"{ROOT_DIR}/config/model_config.yaml\"\n",
    ")\n",
    "trans_func = extraction.get_data_for_eol_prediction"
   ]
  },
  {
   "cell_type": "code",
   "execution_count": null,
   "metadata": {},
   "outputs": [],
   "source": [
    "# now run the leave-one-group out validation for the EOL model\n",
    "eol_res = experiment.leave_one_group_out_validation(\n",
    "    data=data,\n",
    "    trans_func=extraction.get_data_for_eol_prediction,\n",
    "    param_grid=model_config[\"eol\"][\"param_grid\"],\n",
    "    scorer=\"neg_mean_absolute_error\",\n",
    "    problem_type=\"regression\",\n",
    ")"
   ]
  },
  {
   "cell_type": "code",
   "execution_count": null,
   "metadata": {},
   "outputs": [],
   "source": [
    "# display result summary\n",
    "eol_res"
   ]
  }
 ],
 "metadata": {
  "kernelspec": {
   "display_name": ".venv",
   "language": "python",
   "name": "python3"
  },
  "language_info": {
   "codemirror_mode": {
    "name": "ipython",
    "version": 3
   },
   "file_extension": ".py",
   "mimetype": "text/x-python",
   "name": "python",
   "nbconvert_exporter": "python",
   "pygments_lexer": "ipython3",
   "version": "3.10.12"
  }
 },
 "nbformat": 4,
 "nbformat_minor": 2
}
