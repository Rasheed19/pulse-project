{
 "cells": [
  {
   "cell_type": "code",
   "execution_count": null,
   "metadata": {},
   "outputs": [],
   "source": [
    "import importlib\n",
    "import pandas as pd\n",
    "from utils import (\n",
    "    structure_noah,\n",
    "    generic_helper\n",
    ")\n",
    "from utils.definitions import ROOT_DIR\n",
    "importlib.reload(structure_noah)\n",
    "importlib.reload(generic_helper)"
   ]
  },
  {
   "cell_type": "code",
   "execution_count": null,
   "metadata": {},
   "outputs": [],
   "source": [
    "# load the structured data from notebook 01\n",
    "data = generic_helper.read_data(path=ROOT_DIR, fname=\"data/noah_structured_data.pkl\")\n",
    "\n",
    "# load model configuration\n",
    "model_config = generic_helper.load_yaml_file(\n",
    "    path=f\"{ROOT_DIR}/config/model_config.yaml\"\n",
    ")"
   ]
  },
  {
   "cell_type": "code",
   "execution_count": null,
   "metadata": {},
   "outputs": [],
   "source": [
    "# remove cells whose end of life is less than\n",
    "# the cycle at which first pulse test takes place\n",
    "data = {\n",
    "    k: data[k]\n",
    "    for k in data\n",
    "    if list(data[k][\"pulses\"])[0] < data[k][\"summary\"][\"end_of_life\"]\n",
    "}\n",
    "\n",
    "# dump the refined data\n",
    "generic_helper.dump_data(\n",
    "    data=data,\n",
    "    path=f\"{ROOT_DIR}/data\",\n",
    "    fname=\"noah_structured_data_refined.pkl\"\n",
    ")\n"
   ]
  },
  {
   "cell_type": "code",
   "execution_count": null,
   "metadata": {},
   "outputs": [],
   "source": [
    "# split to train and test cells, then dump\n",
    "USE_PROPOSED_SPLIT = True   # change this to False if you do not want to use the splits for generating all our results\n",
    "\n",
    "if USE_PROPOSED_SPLIT:\n",
    "    train_cells = pd.read_csv(f\"{ROOT_DIR}/train_test_cells/train_cells.csv\")\n",
    "    test_cells = pd.read_csv(f\"{ROOT_DIR}/train_test_cells/test_cells.csv\")\n",
    "\n",
    "    train_cells = {cell:data[cell] for cell in train_cells[\"train_cells\"].values}\n",
    "    test_cells = {cell:data[cell] for cell in test_cells[\"test_cells\"].values}\n",
    "\n",
    "else:\n",
    "    cathode_groups = structure_noah.get_unique_cathode_groups(data)\n",
    "    train_cells, test_cells = generic_helper.bring_splits_together(\n",
    "        data=data, cathode_groups=cathode_groups, test_ratio=model_config[\"test_ratio\"]\n",
    "    )\n",
    "\n",
    "generic_helper.dump_data(\n",
    "    data={\"train\": train_cells, \"test\": test_cells},\n",
    "    path=f\"{ROOT_DIR}/data\",\n",
    "    fname=\"noah_train_test_split.pkl\",\n",
    ")"
   ]
  },
  {
   "cell_type": "code",
   "execution_count": null,
   "metadata": {},
   "outputs": [],
   "source": [
    "\n",
    "# display the number of refined, train and test cells\n",
    "len(data), len(train_cells), len(test_cells)\n"
   ]
  }
 ],
 "metadata": {
  "kernelspec": {
   "display_name": ".venv",
   "language": "python",
   "name": "python3"
  },
  "language_info": {
   "codemirror_mode": {
    "name": "ipython",
    "version": 3
   },
   "file_extension": ".py",
   "mimetype": "text/x-python",
   "name": "python",
   "nbconvert_exporter": "python",
   "pygments_lexer": "ipython3",
   "version": "3.10.12"
  },
  "orig_nbformat": 4
 },
 "nbformat": 4,
 "nbformat_minor": 2
}
