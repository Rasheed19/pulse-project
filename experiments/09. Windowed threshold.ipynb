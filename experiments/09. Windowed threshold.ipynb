{
 "cells": [
  {
   "cell_type": "code",
   "execution_count": null,
   "metadata": {},
   "outputs": [],
   "source": [
    "import importlib\n",
    "from utils import (\n",
    "    extraction,\n",
    "    generic_helper,\n",
    "    experiment\n",
    ")\n",
    "from utils.definitions import ROOT_DIR\n",
    "importlib.reload(generic_helper)\n",
    "importlib.reload(extraction)\n",
    "importlib.reload(experiment)"
   ]
  },
  {
   "cell_type": "code",
   "execution_count": null,
   "metadata": {},
   "outputs": [],
   "source": [
    "# read in train-test split\n",
    "SPLIT_DATA = generic_helper.read_data(\n",
    "    path=f\"{ROOT_DIR}/data\", fname=\"noah_train_test_split.pkl\"\n",
    ")\n",
    "\n",
    "# load model configuration\n",
    "MODEL_CONFIG = generic_helper.load_yaml_file(\n",
    "    path=f\"{ROOT_DIR}/config/model_config.yaml\"\n",
    ")\n",
    "\n",
    "# load transform functions\n",
    "TRANSFORM_FUNCTIONS = dict(\n",
    "    zip(\n",
    "        [\"eol\", \"rul\", \"classification\"],\n",
    "        [\n",
    "            extraction.get_data_for_eol_prediction,\n",
    "            extraction.get_data_for_rul_prediction,\n",
    "            extraction.get_data_for_classification,\n",
    "        ],\n",
    "    )\n",
    ")\n",
    "\n",
    "# define scorers \n",
    "SCORERS = dict(\n",
    "    zip(\n",
    "        [\"eol\", \"rul\", \"classification\"],\n",
    "        [\n",
    "            \"neg_mean_absolute_error\",\n",
    "            \"neg_mean_absolute_error\",\n",
    "            \"f1\"\n",
    "        ],\n",
    "    )\n",
    ")"
   ]
  },
  {
   "cell_type": "code",
   "execution_count": null,
   "metadata": {},
   "outputs": [],
   "source": [
    "# define a function that will take model type and run the\n",
    "# windowed threshold experiment\n",
    "\n",
    "def windowed_threshold_experiment(\n",
    "    model_type: str,\n",
    ") -> tuple:\n",
    "  \n",
    "    threshold_result = experiment.effect_time_threshold(\n",
    "        train_data=SPLIT_DATA[\"train\"],\n",
    "        signature_depth=MODEL_CONFIG[model_type][\"signature_depth\"],\n",
    "        param_grid=MODEL_CONFIG[model_type][\"param_grid\"],\n",
    "        problem_type=\"regression\" if model_type in [\"rul\", \"eol\"] else \"classification\",\n",
    "        trans_func=TRANSFORM_FUNCTIONS[model_type],\n",
    "        scorer=SCORERS[model_type],\n",
    "        list_of_threshold=[(0, 40), (40, 80), (80, 120)],\n",
    "    )\n",
    "\n",
    "    return threshold_result"
   ]
  },
  {
   "cell_type": "code",
   "execution_count": null,
   "metadata": {},
   "outputs": [],
   "source": [
    "# call the function to see results \n",
    "for model_type in SCORERS.keys():\n",
    "\n",
    "    print(f\"Running {model_type} model...\")\n",
    "    print(\"------------------------------\")\n",
    "\n",
    "    windowed_threshold_experiment(model_type=model_type)\n",
    "    "
   ]
  }
 ],
 "metadata": {
  "kernelspec": {
   "display_name": "pulsevenv",
   "language": "python",
   "name": "python3"
  },
  "language_info": {
   "codemirror_mode": {
    "name": "ipython",
    "version": 3
   },
   "file_extension": ".py",
   "mimetype": "text/x-python",
   "name": "python",
   "nbconvert_exporter": "python",
   "pygments_lexer": "ipython3",
   "version": "3.10.12"
  },
  "orig_nbformat": 4
 },
 "nbformat": 4,
 "nbformat_minor": 2
}
