{
 "cells": [
  {
   "cell_type": "code",
   "execution_count": null,
   "metadata": {},
   "outputs": [],
   "source": [
    "import importlib\n",
    "import numpy as np\n",
    "from utils import (\n",
    "    extraction,\n",
    "    generic_helper,\n",
    "    experiment,\n",
    "    plotting,\n",
    "    structure_noah\n",
    ")\n",
    "from utils.definitions import ROOT_DIR\n",
    "importlib.reload(generic_helper)\n",
    "importlib.reload(extraction)\n",
    "importlib.reload(experiment)\n",
    "importlib.reload(plotting)\n",
    "importlib.reload(structure_noah)"
   ]
  },
  {
   "cell_type": "code",
   "execution_count": null,
   "metadata": {},
   "outputs": [],
   "source": [
    "# define some constants\n",
    "PATH_TO_DATA = f\"{ROOT_DIR}/data\"\n",
    "PATH_TO_MODEL = f\"{ROOT_DIR}/models\"\n",
    "REFINED_DATA =  generic_helper.read_data(\n",
    "    path=PATH_TO_DATA,\n",
    "    fname=\"noah_structured_data_refined.pkl\"\n",
    ")\n",
    "SPLIT_DATA = generic_helper.read_data(\n",
    "    path=f\"{ROOT_DIR}/data\",\n",
    "    fname=\"noah_train_val_test_split.pkl\"\n",
    ")"
   ]
  },
  {
   "cell_type": "code",
   "execution_count": null,
   "metadata": {},
   "outputs": [],
   "source": [
    "# check some pulse voltage for some cells\n",
    "sample_cells = list(REFINED_DATA.keys())[:4]\n",
    "plotting.plot_pulse_voltage_current(\n",
    "    structured_data_with_pulse=REFINED_DATA,\n",
    "    sample_cell=sample_cells[1]\n",
    ")"
   ]
  },
  {
   "cell_type": "code",
   "execution_count": null,
   "metadata": {},
   "outputs": [],
   "source": [
    "# plot first pulse cycle distribution \n",
    "plotting.distribution_of_firstpulse_cycle_life(\n",
    "    structured_data_with_pulse=REFINED_DATA,\n",
    "    pulse=True\n",
    ")"
   ]
  },
  {
   "cell_type": "code",
   "execution_count": null,
   "metadata": {},
   "outputs": [],
   "source": [
    "# plot cells' end of life distribution\n",
    "plotting.distribution_of_firstpulse_cycle_life(\n",
    "    structured_data_with_pulse=REFINED_DATA\n",
    ")"
   ]
  },
  {
   "cell_type": "code",
   "execution_count": null,
   "metadata": {},
   "outputs": [],
   "source": [
    "# plot sample filtered capacity\n",
    "cathode_groups = structure_noah.get_unique_cathode_groups(structured_data=REFINED_DATA)\n",
    "cells_to_plot_for_filtered_capacity = []\n",
    "\n",
    "for cathode_group in cathode_groups:\n",
    "    data_grp = {k:REFINED_DATA[k] for k in REFINED_DATA\n",
    "                if REFINED_DATA[k]['summary']['cathode_group']==cathode_group\n",
    "            }\n",
    "    cells_to_plot_for_filtered_capacity.append(\n",
    "        np.random.choice(list(data_grp.keys()))\n",
    "      )  # just choose a cell in the group at random\n",
    "\n",
    "plotting.plot_filtered_capacity(\n",
    "    sample_cells=cells_to_plot_for_filtered_capacity,\n",
    "    structured_data=REFINED_DATA\n",
    ")"
   ]
  },
  {
   "cell_type": "code",
   "execution_count": null,
   "metadata": {},
   "outputs": [],
   "source": [
    "# get the end of life for training cells\n",
    "_, eol_data = extraction.get_data_for_eol_prediction(\n",
    "    structured_data=SPLIT_DATA[\"train\"],\n",
    "    signature_depth=2,    # for completeness, we need only eol\n",
    "     threshold=120\n",
    ")\n",
    "\n",
    "# get the rul for the training cells\n",
    "_, rul_data = extraction.get_data_for_rul_prediction(\n",
    "    structured_data=SPLIT_DATA[\"train\"],\n",
    "    signature_depth=2,    # for completeness, we need only rul\n",
    "    threshold=120\n",
    ")\n",
    "\n",
    "# compare eol and its quantile transformation\n",
    "plotting.plot_target_transform_comparison(\n",
    "    data=eol_data,\n",
    "    bins=25,\n",
    "    x_label=\"End of life\",\n",
    "    save_name=\"eol_transfromation_comparison\"\n",
    ")\n",
    "\n",
    "# for the remaining useful life \n",
    "plotting.plot_target_transform_comparison(\n",
    "    data=rul_data,\n",
    "    bins=25,\n",
    "    x_label=\"Remaining useful life\",\n",
    "    save_name=\"rul_transfromation_comparison\"\n",
    ")\n"
   ]
  },
  {
   "cell_type": "code",
   "execution_count": null,
   "metadata": {},
   "outputs": [],
   "source": [
    "# parity plot for eol and rul\n",
    "prediction_data_list = [\n",
    "    generic_helper.read_data(path=PATH_TO_DATA, fname=fname)\n",
    "    for fname in [\"eol_prediction_data.pkl\", \"rul_prediction_data.pkl\"]\n",
    "]\n",
    "plotting.parity_plot(\n",
    "    prediction_data_list=prediction_data_list,\n",
    "    tag=\"eol_rul_parity\"\n",
    ")"
   ]
  },
  {
   "cell_type": "code",
   "execution_count": null,
   "metadata": {},
   "outputs": [],
   "source": [
    "# plot roc curve and confusion matrix\n",
    "classification_prediction_data =  generic_helper.read_data(\n",
    "    path=PATH_TO_DATA,\n",
    "    fname=\"classification_prediction_data.pkl\"\n",
    ")\n",
    "plotting.plot_cunfusion_matrix_roc_curve(\n",
    "    y_true=classification_prediction_data[\"y_true\"],\n",
    "    y_pred=classification_prediction_data[\"y_pred\"],\n",
    "    y_score=classification_prediction_data[\"y_score\"],\n",
    "    classes=[\"Passed\", \"Not passed\"]\n",
    ")\n"
   ]
  },
  {
   "cell_type": "code",
   "execution_count": null,
   "metadata": {},
   "outputs": [],
   "source": [
    "# plot feature importance \n",
    "model_names = [\"eol\", \"rul\", \"classification\"]\n",
    "depths = [3, 6, 6]\n",
    "model_feature_dict = {\n",
    "    name: {\n",
    "        \"pipeline\": generic_helper.read_data(\n",
    "            path=PATH_TO_MODEL, fname=f\"{name}_pipeline.pkl\"\n",
    "        ),\n",
    "        \"fitted_model\": generic_helper.read_data(\n",
    "            path=PATH_TO_MODEL, fname=f\"{name}_model.pkl\"\n",
    "        ),\n",
    "        \"features\": generic_helper.get_sig_convention(\n",
    "            dimension=3, depth=depth\n",
    "        ),\n",
    "    }\n",
    "    for name, depth in zip(model_names, depths)\n",
    "}\n",
    "\n",
    "\n",
    "for m in [\"xgboost\", \"permutation\", \"shap\"]:\n",
    "\n",
    "    analysis_result = experiment.feature_importance_analysis(\n",
    "        model_feature_dict=model_feature_dict,\n",
    "        mode=m,\n",
    "        validation_set=None if m == \"xgboost\" else SPLIT_DATA['train']\n",
    "    )\n",
    "    plotting.plot_feature_importance(\n",
    "        analysis_result=analysis_result,\n",
    "        threshold=10,\n",
    "        tag=f\"{m}_feature_importance\"\n",
    "    )"
   ]
  },
  {
   "cell_type": "code",
   "execution_count": null,
   "metadata": {},
   "outputs": [],
   "source": [
    "\n",
    "# plot number of cells per group and first pulse cycle distribution\n",
    "plotting.plot_num_cells_first_pulse_dist(\n",
    "    structured_data_with_pulse=REFINED_DATA\n",
    ")"
   ]
  },
  {
   "cell_type": "code",
   "execution_count": null,
   "metadata": {},
   "outputs": [],
   "source": [
    "# plot the effect of time threshold on models\n",
    "threshold_data_dict = {\n",
    "    model_name: generic_helper.read_data(\n",
    "            path=PATH_TO_DATA, fname=f\"{model_name}_threshold_data.pkl\")\n",
    "    for model_name in [\"rul\", \"classification\"]\n",
    "    \n",
    "}\n",
    "\n",
    "plotting.plot_time_threshold_effect(\n",
    "    threshold_data_dict=threshold_data_dict\n",
    ")"
   ]
  },
  {
   "cell_type": "code",
   "execution_count": null,
   "metadata": {},
   "outputs": [],
   "source": [
    "# plot the effect of time threshold on feature importance \n",
    "plotting.plot_combined_feature_similarity(\n",
    "    data_list=[\n",
    "        generic_helper.read_data(path=PATH_TO_DATA, fname=f\"{m}_threshold_feature_importance.pkl\")\n",
    "        for m in [\"eol\", \"rul\", \"classification\"]\n",
    "    ]\n",
    ")"
   ]
  },
  {
   "cell_type": "code",
   "execution_count": null,
   "metadata": {},
   "outputs": [],
   "source": [
    "importlib.reload(plotting)\n",
    "plotting.plot_analysis_graphical_abstract(\n",
    "    prediction_data_list=prediction_data_list,\n",
    "    analysis_result=analysis_result\n",
    ")"
   ]
  },
  {
   "cell_type": "code",
   "execution_count": null,
   "metadata": {},
   "outputs": [],
   "source": [
    "# get stripplot of first pulse cycles and end of life\n",
    "for fl, yl in zip( [True, False], [\"First pulse cycle\", \"End of life\"]):\n",
    "\n",
    "    plotting.strip_plot_firstpulse_cycle_life(\n",
    "        structured_data_with_pulse=REFINED_DATA,\n",
    "        pulse_cycle=fl,\n",
    "        ylabel=yl,\n",
    "\n",
    "    )"
   ]
  },
  {
   "cell_type": "code",
   "execution_count": null,
   "metadata": {},
   "outputs": [],
   "source": [
    "# plot a full HPPC test for a sample cell for a given cycle\n",
    "data = plotting.plot_relplot_pulse_profile(\n",
    "    path_to_sample_cell=f\"{ROOT_DIR}/noah_raw_data/batch_B9A_cell_1.h5\"\n",
    ")"
   ]
  },
  {
   "cell_type": "code",
   "execution_count": null,
   "metadata": {},
   "outputs": [],
   "source": [
    "# plot cropped pulse profiles for a sample cell for a given cycle\n",
    "plotting.plot_full_pulse_profile(\n",
    "    path_to_sample_cell=f\"{ROOT_DIR}/noah_raw_data/batch_B9A_cell_1.h5\",\n",
    "    style=\"uncropped\",\n",
    ")"
   ]
  },
  {
   "cell_type": "code",
   "execution_count": null,
   "metadata": {},
   "outputs": [],
   "source": [
    "plotting.plot_target_graphical_abstract(\n",
    "    structured_data=REFINED_DATA,\n",
    "    sample_cell=list(REFINED_DATA.keys())[-3]\n",
    ")"
   ]
  }
 ],
 "metadata": {
  "kernelspec": {
   "display_name": ".venv",
   "language": "python",
   "name": "python3"
  },
  "language_info": {
   "codemirror_mode": {
    "name": "ipython",
    "version": 3
   },
   "file_extension": ".py",
   "mimetype": "text/x-python",
   "name": "python",
   "nbconvert_exporter": "python",
   "pygments_lexer": "ipython3",
   "version": "3.10.12"
  },
  "orig_nbformat": 4
 },
 "nbformat": 4,
 "nbformat_minor": 2
}
