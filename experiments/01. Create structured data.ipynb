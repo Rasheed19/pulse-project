{
 "cells": [
  {
   "cell_type": "code",
   "execution_count": null,
   "metadata": {},
   "outputs": [],
   "source": [
    "import importlib\n",
    "import os\n",
    "from collections import Counter\n",
    "from utils import (\n",
    "    structure_noah,\n",
    "    generic_helper\n",
    ")\n",
    "from utils.definitions import ROOT_DIR\n",
    "importlib.reload(structure_noah)\n",
    "importlib.reload(generic_helper)"
   ]
  },
  {
   "cell_type": "code",
   "execution_count": null,
   "metadata": {},
   "outputs": [],
   "source": [
    "# get the contents of the noah_raw_data; the downloaded refined data \n",
    "absolute_path = f\"{ROOT_DIR}/noah_raw_data\"\n",
    "extracted_contents = os.listdir(absolute_path)\n",
    "print(extracted_contents)"
   ]
  },
  {
   "cell_type": "code",
   "execution_count": null,
   "metadata": {},
   "outputs": [],
   "source": [
    "# how many files in the refined folder?\n",
    "len(extracted_contents)"
   ]
  },
  {
   "cell_type": "code",
   "execution_count": null,
   "metadata": {},
   "outputs": [],
   "source": [
    "# create a list of absolute paths to cells' data\n",
    "absolute_path_to_files = [f\"{absolute_path}/{file}\" for file in extracted_contents]\n",
    "\n",
    "# get structured data\n",
    "structured_data = structure_noah.get_structured_data(\n",
    "    path_to_files=absolute_path_to_files\n",
    ")"
   ]
  },
  {
   "cell_type": "code",
   "execution_count": null,
   "metadata": {},
   "outputs": [],
   "source": [
    "# check the number of cells per group in the original data\n",
    "check_cell_per_group = [\n",
    "    value[\"summary\"][\"cathode_group\"] for value in structured_data.values()\n",
    "]\n",
    "Counter(check_cell_per_group)\n",
    "\n"
   ]
  },
  {
   "cell_type": "code",
   "execution_count": null,
   "metadata": {},
   "outputs": [],
   "source": [
    "# check keys\n",
    "structured_data.keys()"
   ]
  },
  {
   "cell_type": "code",
   "execution_count": null,
   "metadata": {},
   "outputs": [],
   "source": [
    "# check the keys for a cell\n",
    "structured_data['batch_B10A_cell_3'].keys()"
   ]
  },
  {
   "cell_type": "code",
   "execution_count": null,
   "metadata": {},
   "outputs": [],
   "source": [
    "# check the keys for pulses \n",
    "structured_data['batch_B10A_cell_3'][\"pulses\"].keys()"
   ]
  },
  {
   "cell_type": "code",
   "execution_count": null,
   "metadata": {},
   "outputs": [],
   "source": [
    "# check the keys for a single pulse \n",
    "structured_data['batch_B10A_cell_3'][\"pulses\"][16].keys()"
   ]
  },
  {
   "cell_type": "code",
   "execution_count": null,
   "metadata": {},
   "outputs": [],
   "source": [
    "# check summary data\n",
    "structured_data['batch_B10A_cell_3']['summary'].keys()"
   ]
  },
  {
   "cell_type": "code",
   "execution_count": null,
   "metadata": {},
   "outputs": [],
   "source": [
    "# check cycles at which pulse testing were caried out\n",
    "cell_cyc = {}\n",
    "\n",
    "for cell in structured_data.keys():\n",
    "    \n",
    "    list_of_cyles = list(structured_data[cell]['pulses'].keys())\n",
    "    if not list_of_cyles:  # those cells without pulse testing\n",
    "        print(cell)\n",
    "    cell_cyc[cell] = list_of_cyles\n",
    "\n",
    "print(cell_cyc)"
   ]
  },
  {
   "cell_type": "code",
   "execution_count": null,
   "metadata": {},
   "outputs": [],
   "source": [
    "# check whether the first pulse test was carried out within the first\n",
    "# 100 cycles\n",
    "\n",
    "for cell in cell_cyc:\n",
    "\n",
    "    if not cell_cyc[cell]:\n",
    "        continue\n",
    "\n",
    "    if cell_cyc[cell][0] > 100:\n",
    "        print(cell)"
   ]
  },
  {
   "cell_type": "code",
   "execution_count": null,
   "metadata": {},
   "outputs": [],
   "source": [
    "# there are some cells without pulse testing\n",
    "# check them out and remove them\n",
    "cells_without_pulse = [\n",
    "    cell for cell in structured_data\n",
    "    if len(structured_data[cell]['pulses'].keys()) == 0\n",
    "]\n",
    "cells_without_pulse"
   ]
  },
  {
   "cell_type": "code",
   "execution_count": null,
   "metadata": {},
   "outputs": [],
   "source": [
    "# remove cells with irregular voltage\n",
    "irregular_cells = [\n",
    "    'batch_B1A_cell_4', \n",
    "    'batch_B35H_cell_1',\n",
    "    'batch_B26K_cell_2'\n",
    "]\n"
   ]
  },
  {
   "cell_type": "code",
   "execution_count": null,
   "metadata": {},
   "outputs": [],
   "source": [
    "# get structured data for only cells with pulse testing and not in irregular cells list\n",
    "structured_data_with_pulse = {\n",
    "    k: structured_data[k] for k in structured_data.keys()\n",
    "   if k not in cells_without_pulse + irregular_cells\n",
    "}\n",
    "len(structured_data_with_pulse)"
   ]
  },
  {
   "cell_type": "code",
   "execution_count": null,
   "metadata": {},
   "outputs": [],
   "source": [
    "# dump the structured data with pulse test\n",
    "generic_helper.dump_data(\n",
    "    data=structured_data_with_pulse,\n",
    "    path=f\"{ROOT_DIR}/data\",\n",
    "    fname=\"noah_structured_data.pkl\"\n",
    ")\n"
   ]
  }
 ],
 "metadata": {
  "kernelspec": {
   "display_name": "pulsevenv",
   "language": "python",
   "name": "python3"
  },
  "language_info": {
   "codemirror_mode": {
    "name": "ipython",
    "version": 3
   },
   "file_extension": ".py",
   "mimetype": "text/x-python",
   "name": "python",
   "nbconvert_exporter": "python",
   "pygments_lexer": "ipython3",
   "version": "3.10.12"
  },
  "orig_nbformat": 4
 },
 "nbformat": 4,
 "nbformat_minor": 2
}
