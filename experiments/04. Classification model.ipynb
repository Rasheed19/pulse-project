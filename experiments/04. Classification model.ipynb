{
 "cells": [
  {
   "cell_type": "code",
   "execution_count": null,
   "metadata": {},
   "outputs": [],
   "source": [
    "import importlib\n",
    "from utils import (\n",
    "    extraction,\n",
    "    generic_helper,\n",
    "    experiment,\n",
    "    structure_noah\n",
    ")\n",
    "from utils.definitions import ROOT_DIR\n",
    "importlib.reload(generic_helper)\n",
    "importlib.reload(extraction)\n",
    "importlib.reload(experiment)\n",
    "importlib.reload(structure_noah)"
   ]
  },
  {
   "cell_type": "code",
   "execution_count": null,
   "metadata": {},
   "outputs": [],
   "source": [
    "# read in train-test split\n",
    "split_data = generic_helper.read_data(\n",
    "    path=f\"{ROOT_DIR}/data\",\n",
    "    fname=\"noah_train_test_split.pkl\"\n",
    ")"
   ]
  },
  {
   "cell_type": "code",
   "execution_count": null,
   "metadata": {},
   "outputs": [],
   "source": [
    "# load model configuration\n",
    "model_config = generic_helper.load_yaml_file(\n",
    "    path=f\"{ROOT_DIR}/config/model_config.yaml\"\n",
    ")\n",
    "\n",
    "# load transformation function\n",
    "trans_func = extraction.get_data_for_classification\n"
   ]
  },
  {
   "cell_type": "code",
   "execution_count": null,
   "metadata": {},
   "outputs": [],
   "source": [
    "# check the effect of time threshold on model\n",
    "threshold_result = experiment.effect_time_threshold(\n",
    "    train_data=split_data[\"train\"],\n",
    "    signature_depth=model_config[\"classification\"][\"signature_depth\"],\n",
    "    param_grid=model_config[\"classification\"][\"param_grid\"],\n",
    "    problem_type=\"classification\",\n",
    "    trans_func=trans_func,\n",
    "    scorer=\"f1\",\n",
    ")"
   ]
  },
  {
   "cell_type": "code",
   "execution_count": null,
   "metadata": {},
   "outputs": [],
   "source": [
    "# save threshold results for plotting\n",
    "generic_helper.dump_data(\n",
    "    data=threshold_result,\n",
    "    path=f\"{ROOT_DIR}/data\",\n",
    "    fname=\"classification_threshold_data.pkl\"\n",
    ")"
   ]
  },
  {
   "cell_type": "code",
   "execution_count": null,
   "metadata": {},
   "outputs": [],
   "source": [
    "# train a model with time threshold of 120 s\n",
    "best_pipeline, best_params, best_model, best_score, best_std = experiment.train_model(\n",
    "    train_data=split_data[\"train\"],\n",
    "    signature_depth=model_config[\"classification\"][\"signature_depth\"],\n",
    "    threshold=120,\n",
    "    param_grid=model_config[\"classification\"][\"param_grid\"],\n",
    "    problem_type=\"classification\",\n",
    "    trans_func=trans_func,\n",
    "    scorer=\"f1\",\n",
    ")"
   ]
  },
  {
   "cell_type": "code",
   "execution_count": null,
   "metadata": {},
   "outputs": [],
   "source": [
    "# best params\n",
    "best_params"
   ]
  },
  {
   "cell_type": "code",
   "execution_count": null,
   "metadata": {},
   "outputs": [],
   "source": [
    "# best cv score\n",
    "best_score * 100.  # convert to percentages"
   ]
  },
  {
   "cell_type": "code",
   "execution_count": null,
   "metadata": {},
   "outputs": [],
   "source": [
    "# predictions on train and test data\n",
    "result_dict = {}\n",
    "\n",
    "for key, value in split_data.items():\n",
    "    X, y = best_pipeline.transform(value)\n",
    "\n",
    "    if key == \"test\":\n",
    "        y_test = y    # save this, it will be used later\n",
    "\n",
    "    # get metrics \n",
    "    y_pred = best_model.predict(X)\n",
    "    y_pred_proba = best_model.predict_proba(X)\n",
    "    metric = experiment.metric_calculator_classification(\n",
    "        y_true=y,\n",
    "        y_pred=y_pred,\n",
    "        y_pred_proba=y_pred_proba[:, 1]\n",
    "    )\n",
    "    \n",
    "    result_dict[key] = metric"
   ]
  },
  {
   "cell_type": "code",
   "execution_count": null,
   "metadata": {},
   "outputs": [],
   "source": [
    "\n",
    "# get all the metrics on the train and test sets\n",
    "metric_ci_data, prediction_data = experiment.display_training_result_clf(\n",
    "    pipeline=best_pipeline,\n",
    "    model=best_model,\n",
    "    split_data=split_data,\n",
    "    alpha=0.05\n",
    ")"
   ]
  },
  {
   "cell_type": "code",
   "execution_count": null,
   "metadata": {},
   "outputs": [],
   "source": [
    "# display metrics\n",
    "metric_ci_data"
   ]
  },
  {
   "cell_type": "code",
   "execution_count": null,
   "metadata": {},
   "outputs": [],
   "source": [
    "# store the true and predicted labels\n",
    "generic_helper.dump_data(\n",
    "    data={\"y_true\": y_test, \"y_pred\": y_pred, \"y_score\": y_pred_proba[:, 1]},\n",
    "    path=f\"{ROOT_DIR}/data\",\n",
    "    fname=\"classification_prediction_data.pkl\"\n",
    ")"
   ]
  },
  {
   "cell_type": "code",
   "execution_count": null,
   "metadata": {},
   "outputs": [],
   "source": [
    "\n",
    "# log pipeline and model\n",
    "experiment.log_model_pipeline(\n",
    "    pipeline=best_pipeline,\n",
    "    model=best_model,\n",
    "    model_name=\"classification\"\n",
    ")"
   ]
  },
  {
   "cell_type": "code",
   "execution_count": null,
   "metadata": {},
   "outputs": [],
   "source": [
    "# check the effect of time threshold on feature importance\n",
    "threshold_feature_importance = experiment.time_threshold_effect_feature_importance(\n",
    "    train_data=split_data[\"train\"],\n",
    "    signature_depth=model_config[\"classification\"][\"signature_depth\"],\n",
    "    param_grid=model_config[\"classification\"][\"param_grid\"],\n",
    "    problem_type=\"classification\",\n",
    "    trans_func=trans_func,\n",
    "    scorer=\"f1\",\n",
    ")\n",
    "\n",
    "# save the corresponding results for plotting\n",
    "generic_helper.dump_data(\n",
    "    data=threshold_feature_importance,\n",
    "    path=f\"{ROOT_DIR}/data\",\n",
    "    fname=\"classification_threshold_feature_importance.pkl\",\n",
    ")"
   ]
  }
 ],
 "metadata": {
  "kernelspec": {
   "display_name": ".venv",
   "language": "python",
   "name": "python3"
  },
  "language_info": {
   "codemirror_mode": {
    "name": "ipython",
    "version": 3
   },
   "file_extension": ".py",
   "mimetype": "text/x-python",
   "name": "python",
   "nbconvert_exporter": "python",
   "pygments_lexer": "ipython3",
   "version": "3.10.12"
  },
  "orig_nbformat": 4
 },
 "nbformat": 4,
 "nbformat_minor": 2
}
