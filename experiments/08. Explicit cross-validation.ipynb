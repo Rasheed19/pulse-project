{
 "cells": [
  {
   "cell_type": "code",
   "execution_count": null,
   "metadata": {},
   "outputs": [],
   "source": [
    "import importlib\n",
    "from utils import extraction, generic_helper, experiment\n",
    "from utils.definitions import ROOT_DIR\n",
    "importlib.reload(generic_helper)\n",
    "importlib.reload(extraction)\n",
    "importlib.reload(experiment)"
   ]
  },
  {
   "cell_type": "code",
   "execution_count": null,
   "metadata": {},
   "outputs": [],
   "source": [
    "# read in train-test split\n",
    "split_data = generic_helper.read_data(\n",
    "    path=f\"{ROOT_DIR}/data\",\n",
    "    fname=\"noah_train_test_split.pkl\"\n",
    ")"
   ]
  },
  {
   "cell_type": "code",
   "execution_count": null,
   "metadata": {},
   "outputs": [],
   "source": [
    "# run explicit cross-validation algorithm on the built models\n",
    "model_list = [\"eol\", \"rul\", \"classification\"]\n",
    "scoring_list = [\n",
    "    {\"MAE\": \"neg_mean_absolute_error\", \"RMSE\": \"neg_root_mean_squared_error\"},\n",
    "    {\"MAE\": \"neg_mean_absolute_error\", \"RMSE\": \"neg_root_mean_squared_error\"},\n",
    "    {\n",
    "        \"precision\": \"precision\",\n",
    "        \"recall\": \"recall\",\n",
    "        \"f1_score\": \"f1\",\n",
    "        \"roc_auc_score\": \"roc_auc\",\n",
    "        \"accuracy\": \"accuracy\"\n",
    "    }\n",
    "]\n",
    "\n",
    "results = {}\n",
    "\n",
    "for m, s in zip(model_list, scoring_list):\n",
    "\n",
    "    model = generic_helper.read_data(\n",
    "        path=f\"{ROOT_DIR}/models\",\n",
    "        fname=f\"{m}_model.pkl\"\n",
    "    )\n",
    "\n",
    "    pipeline = generic_helper.read_data(\n",
    "        path=f\"{ROOT_DIR}/models\",\n",
    "        fname=f\"{m}_pipeline.pkl\"\n",
    "    )\n",
    "\n",
    "    X_train, y_train = pipeline.transform(split_data['train'])\n",
    "    res = experiment.cross_validation(\n",
    "        X_train=X_train,\n",
    "        y_train=y_train,\n",
    "        model=model,\n",
    "        scoring=s\n",
    "    )\n",
    "\n",
    "    results[m] = res\n"
   ]
  },
  {
   "cell_type": "code",
   "execution_count": null,
   "metadata": {},
   "outputs": [],
   "source": [
    "# for eol\n",
    "results[\"eol\"]"
   ]
  },
  {
   "cell_type": "code",
   "execution_count": null,
   "metadata": {},
   "outputs": [],
   "source": [
    "# for rul\n",
    "results[\"rul\"]"
   ]
  },
  {
   "cell_type": "code",
   "execution_count": null,
   "metadata": {},
   "outputs": [],
   "source": [
    "# for classification\n",
    "results[\"classification\"] * 100. # convert to percentages"
   ]
  }
 ],
 "metadata": {
  "kernelspec": {
   "display_name": ".venv",
   "language": "python",
   "name": "python3"
  },
  "language_info": {
   "codemirror_mode": {
    "name": "ipython",
    "version": 3
   },
   "file_extension": ".py",
   "mimetype": "text/x-python",
   "name": "python",
   "nbconvert_exporter": "python",
   "pygments_lexer": "ipython3",
   "version": "3.10.12"
  }
 },
 "nbformat": 4,
 "nbformat_minor": 2
}
